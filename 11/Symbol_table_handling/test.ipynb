{
 "cells": [
  {
   "cell_type": "markdown",
   "id": "57ca3b66",
   "metadata": {},
   "source": [
    "### test"
   ]
  },
  {
   "cell_type": "code",
   "execution_count": 1,
   "id": "e7530576",
   "metadata": {},
   "outputs": [],
   "source": [
    "import os\n",
    "from jack_analyzer import JackAnalyzer"
   ]
  },
  {
   "cell_type": "markdown",
   "id": "dff38687",
   "metadata": {},
   "source": [
    "### Compare functions"
   ]
  },
  {
   "cell_type": "code",
   "execution_count": 2,
   "id": "bfee770f",
   "metadata": {},
   "outputs": [],
   "source": [
    "def compare_files(file1: str, file2: str):\n",
    "    with open(file1) as f1, open(file2) as f2:\n",
    "        for lineno, (line1, line2) in enumerate(zip(f1, f2), 1):\n",
    "            if line1 != line2:\n",
    "                print(f\"Difference at line {lineno}:\\nFile1: {line1.rstrip()}\\nFile2: {line2.rstrip()}\")\n",
    "                return\n",
    "        # Check for extra lines\n",
    "        extra1 = f1.readline()\n",
    "        extra2 = f2.readline()\n",
    "        if extra1 or extra2:\n",
    "            print(f\"Files have different lengths at line {lineno+1}.\")  # type: ignore\n",
    "            return\n",
    "    print(\"Success: Files are identical.\")\n",
    "\n",
    "def compare_undercored_vm_pairs(folder: str):\n",
    "    for name in os.listdir(folder):\n",
    "        folder_path = os.path.join(folder, name)\n",
    "        if not os.path.isdir(folder_path):\n",
    "            continue\n",
    "        for name_file in os.listdir(folder_path):\n",
    "            if name_file.endswith(\".xml\") and not name_file.endswith(\"_.xml\"):\n",
    "                file1 = os.path.join(folder_path, name_file)\n",
    "                file2 = os.path.join(folder_path, name_file.replace(\".xml\", \"_.xml\"))\n",
    "                if os.path.exists(file1) and os.path.exists(file2):\n",
    "                    print(f\"Comparing {file1} and {file2}:\")\n",
    "                    compare_files(file1, file2)\n",
    "                    print()\n",
    "                else:\n",
    "                    print(f\"Skipping {name}: {file1 if not os.path.exists(file1) else file2} not found.\\n\")"
   ]
  },
  {
   "cell_type": "markdown",
   "id": "3b1d0471",
   "metadata": {},
   "source": [
    "## Compile folder"
   ]
  },
  {
   "cell_type": "code",
   "execution_count": 3,
   "id": "5ce5aa79",
   "metadata": {},
   "outputs": [],
   "source": [
    "folder = 'test'"
   ]
  },
  {
   "cell_type": "code",
   "execution_count": 4,
   "id": "699acb0a",
   "metadata": {},
   "outputs": [],
   "source": [
    "for name in os.listdir(folder):\n",
    "    folder_path = os.path.join(folder, name)\n",
    "    if not os.path.isdir(folder_path):\n",
    "            continue\n",
    "    jack_analyzer = JackAnalyzer(folder_path)\n",
    "    jack_analyzer.analyze()"
   ]
  },
  {
   "cell_type": "markdown",
   "id": "fcc2d61f",
   "metadata": {},
   "source": [
    "## Compare"
   ]
  },
  {
   "cell_type": "code",
   "execution_count": 5,
   "id": "c5ccc688",
   "metadata": {},
   "outputs": [
    {
     "name": "stdout",
     "output_type": "stream",
     "text": [
      "Comparing test/ExpressionLessSquare/Main.xml and test/ExpressionLessSquare/Main_.xml:\n",
      "Success: Files are identical.\n",
      "\n",
      "Comparing test/ExpressionLessSquare/SquareGame.xml and test/ExpressionLessSquare/SquareGame_.xml:\n",
      "Success: Files are identical.\n",
      "\n",
      "Comparing test/ExpressionLessSquare/Square.xml and test/ExpressionLessSquare/Square_.xml:\n",
      "Success: Files are identical.\n",
      "\n",
      "Comparing test/ArrayTest/Main.xml and test/ArrayTest/Main_.xml:\n",
      "Success: Files are identical.\n",
      "\n",
      "Comparing test/Square/Main.xml and test/Square/Main_.xml:\n",
      "Success: Files are identical.\n",
      "\n",
      "Comparing test/Square/SquareGame.xml and test/Square/SquareGame_.xml:\n",
      "Success: Files are identical.\n",
      "\n",
      "Comparing test/Square/Square.xml and test/Square/Square_.xml:\n",
      "Success: Files are identical.\n",
      "\n"
     ]
    }
   ],
   "source": [
    "compare_undercored_vm_pairs(folder)"
   ]
  }
 ],
 "metadata": {
  "kernelspec": {
   "display_name": "learn",
   "language": "python",
   "name": "python3"
  },
  "language_info": {
   "codemirror_mode": {
    "name": "ipython",
    "version": 3
   },
   "file_extension": ".py",
   "mimetype": "text/x-python",
   "name": "python",
   "nbconvert_exporter": "python",
   "pygments_lexer": "ipython3",
   "version": "3.11.13"
  }
 },
 "nbformat": 4,
 "nbformat_minor": 5
}
