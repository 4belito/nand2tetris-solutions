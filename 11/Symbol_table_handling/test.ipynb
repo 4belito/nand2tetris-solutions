{
 "cells": [
  {
   "cell_type": "markdown",
   "id": "57ca3b66",
   "metadata": {},
   "source": [
    "### test"
   ]
  },
  {
   "cell_type": "code",
   "execution_count": 1,
   "id": "452fe8e9",
   "metadata": {},
   "outputs": [],
   "source": [
    "from jack_analyzer import JackAnalyzer\n",
    "jack_analyzer = JackAnalyzer('test/ExpressionLessSquare')\n",
    "jack_analyzer.analyze()\n",
    "jack_analyzer = JackAnalyzer('test/Square')\n",
    "jack_analyzer.analyze()\n",
    "jack_analyzer = JackAnalyzer('test/ArrayTest')\n",
    "jack_analyzer.analyze()"
   ]
  },
  {
   "cell_type": "code",
   "execution_count": 1,
   "id": "583d2cd0",
   "metadata": {},
   "outputs": [
    {
     "name": "stdout",
     "output_type": "stream",
     "text": [
      "<class 'type'>\n"
     ]
    }
   ],
   "source": [
    "class MyClass:\n",
    "    pass\n",
    "\n",
    "print(type(MyClass))  "
   ]
  },
  {
   "cell_type": "code",
   "execution_count": 3,
   "id": "355b6d5e",
   "metadata": {},
   "outputs": [
    {
     "data": {
      "text/plain": [
       "'Identifier'"
      ]
     },
     "execution_count": 3,
     "metadata": {},
     "output_type": "execute_result"
    }
   ],
   "source": [
    "from tokens.identifier import Identifier\n",
    "Identifier.__name__"
   ]
  },
  {
   "cell_type": "code",
   "execution_count": 8,
   "id": "4900407f",
   "metadata": {},
   "outputs": [
    {
     "name": "stdout",
     "output_type": "stream",
     "text": [
      "MyEnum\n"
     ]
    }
   ],
   "source": [
    "from enum import Enum\n",
    "\n",
    "class MyEnum(Enum):\n",
    "    A = 1\n",
    "    B = 2\n",
    "\n",
    "    # Static/class variable (not an enum member)\n",
    "    static_var = \"I am static\"\n",
    "\n",
    "# Usage:\n",
    "print(MyEnum.__name__)  # Output: I am static"
   ]
  },
  {
   "cell_type": "code",
   "execution_count": 10,
   "id": "7877dd45",
   "metadata": {},
   "outputs": [
    {
     "data": {
      "text/plain": [
       "'MyEnum'"
      ]
     },
     "execution_count": 10,
     "metadata": {},
     "output_type": "execute_result"
    }
   ],
   "source": [
    "type(MyEnum.A).__name__"
   ]
  },
  {
   "cell_type": "code",
   "execution_count": null,
   "id": "bf78a060",
   "metadata": {},
   "outputs": [],
   "source": []
  }
 ],
 "metadata": {
  "kernelspec": {
   "display_name": "learn",
   "language": "python",
   "name": "python3"
  },
  "language_info": {
   "codemirror_mode": {
    "name": "ipython",
    "version": 3
   },
   "file_extension": ".py",
   "mimetype": "text/x-python",
   "name": "python",
   "nbconvert_exporter": "python",
   "pygments_lexer": "ipython3",
   "version": "3.11.13"
  }
 },
 "nbformat": 4,
 "nbformat_minor": 5
}
