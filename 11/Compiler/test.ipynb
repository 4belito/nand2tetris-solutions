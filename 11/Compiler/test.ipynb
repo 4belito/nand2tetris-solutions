{
 "cells": [
  {
   "cell_type": "markdown",
   "id": "57ca3b66",
   "metadata": {},
   "source": [
    "### test"
   ]
  },
  {
   "cell_type": "code",
   "execution_count": 1,
   "id": "452fe8e9",
   "metadata": {},
   "outputs": [],
   "source": [
    "from jack_compiler import JackCompiler\n",
    "jack_compiler = JackCompiler('test2/1-Seven')\n",
    "jack_compiler.compile()\n",
    "jack_compiler = JackCompiler('test2/2-ConvertToBin')\n",
    "jack_compiler.compile()\n",
    "jack_compiler = JackCompiler('test2/3-Square')\n",
    "jack_compiler.compile()\n",
    "jack_compiler = JackCompiler('test2/4-Average')\n",
    "jack_compiler.compile()\n",
    "jack_compiler = JackCompiler('test2/5-Pong')\n",
    "jack_compiler.compile()\n",
    "jack_compiler = JackCompiler('test2/6-ComplexArrays')\n",
    "jack_compiler.compile()"
   ]
  },
  {
   "cell_type": "code",
   "execution_count": 4,
   "id": "ff742a01",
   "metadata": {},
   "outputs": [
    {
     "name": "stdout",
     "output_type": "stream",
     "text": [
      "[72, 111, 119, 32, 109, 97, 110, 121, 32, 110, 117, 109, 98, 101, 114, 115, 63, 32]\n"
     ]
    }
   ],
   "source": [
    "jack_string = \"How many numbers? \"\n",
    "ascii_values = [ord(c) for c in jack_string]\n",
    "print(ascii_values)"
   ]
  },
  {
   "cell_type": "code",
   "execution_count": null,
   "id": "6ba8f6a7",
   "metadata": {},
   "outputs": [],
   "source": []
  }
 ],
 "metadata": {
  "kernelspec": {
   "display_name": "learn",
   "language": "python",
   "name": "python3"
  },
  "language_info": {
   "codemirror_mode": {
    "name": "ipython",
    "version": 3
   },
   "file_extension": ".py",
   "mimetype": "text/x-python",
   "name": "python",
   "nbconvert_exporter": "python",
   "pygments_lexer": "ipython3",
   "version": "3.11.13"
  }
 },
 "nbformat": 4,
 "nbformat_minor": 5
}
