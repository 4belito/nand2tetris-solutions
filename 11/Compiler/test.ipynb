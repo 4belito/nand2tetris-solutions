{
 "cells": [
  {
   "cell_type": "markdown",
   "id": "57ca3b66",
   "metadata": {},
   "source": [
    "### test"
   ]
  },
  {
   "cell_type": "code",
   "execution_count": 1,
   "id": "2152cfd0",
   "metadata": {},
   "outputs": [],
   "source": [
    "import os\n",
    "from jack_compiler import JackCompiler"
   ]
  },
  {
   "cell_type": "markdown",
   "id": "9496e23c",
   "metadata": {},
   "source": [
    "### Compare functions"
   ]
  },
  {
   "cell_type": "code",
   "execution_count": null,
   "id": "d5d88d59",
   "metadata": {},
   "outputs": [],
   "source": [
    "def compare_files(file1: str, file2: str):\n",
    "    with open(file1) as f1, open(file2) as f2:\n",
    "        for lineno, (line1, line2) in enumerate(zip(f1, f2), 1):\n",
    "            if line1 != line2:\n",
    "                print(f\"Difference at line {lineno}:\\nFile1: {line1.rstrip()}\\nFile2: {line2.rstrip()}\")\n",
    "                return\n",
    "        # Check for extra lines\n",
    "        extra1 = f1.readline()\n",
    "        extra2 = f2.readline()\n",
    "        if extra1 or extra2:\n",
    "            print(f\"Files have different lengths at line {lineno+1}.\")  # type: ignore\n",
    "            return\n",
    "    print(\"Success: Files are identical.\")\n",
    "\n",
    "def compare_undercored_vm_pairs(folder: str):\n",
    "    for name in os.listdir(folder):\n",
    "        folder_path = os.path.join(folder, name)\n",
    "        if not os.path.isdir(folder_path):\n",
    "            continue\n",
    "        for name_file in os.listdir(folder_path):\n",
    "            if name_file.endswith(\".vm\") and not name_file.endswith(\"_.vm\"):\n",
    "                file1 = os.path.join(folder_path, name_file)\n",
    "                file2 = os.path.join(folder_path, name_file.replace(\".vm\", \"_.vm\"))\n",
    "                if os.path.exists(file1) and os.path.exists(file2):\n",
    "                    print(f\"Comparing {file1} and {file2}:\")\n",
    "                    compare_files(file1, file2)\n",
    "                    print()\n",
    "                else:\n",
    "                    print(f\"Skipping {name}: {file1 if not os.path.exists(file1) else file2} not found.\\n\")"
   ]
  },
  {
   "cell_type": "markdown",
   "id": "c0823e0e",
   "metadata": {},
   "source": [
    "## Compile folder"
   ]
  },
  {
   "cell_type": "code",
   "execution_count": 3,
   "id": "452fe8e9",
   "metadata": {},
   "outputs": [],
   "source": [
    "folder = 'test2'\n",
    "for name in os.listdir(folder):\n",
    "    folder_path = os.path.join(folder, name)\n",
    "    if not os.path.isdir(folder_path):\n",
    "            continue\n",
    "    jack_compiler = JackCompiler(folder_path)\n",
    "    jack_compiler.compile()"
   ]
  },
  {
   "cell_type": "markdown",
   "id": "b0a2c4c2",
   "metadata": {},
   "source": [
    "## Compare"
   ]
  },
  {
   "cell_type": "code",
   "execution_count": 4,
   "id": "64fc23a3",
   "metadata": {},
   "outputs": [
    {
     "name": "stdout",
     "output_type": "stream",
     "text": [
      "Comparing test2/4-Average/Main.vm and test2/4-Average/Main_.vm:\n",
      "Success: Files are identical.\n",
      "\n",
      "Comparing test2/1-Seven/Main.vm and test2/1-Seven/Main_.vm:\n",
      "Success: Files are identical.\n",
      "\n",
      "Comparing test2/6-ComplexArrays/Main.vm and test2/6-ComplexArrays/Main_.vm:\n",
      "Success: Files are identical.\n",
      "\n",
      "Comparing test2/5-Pong/Ball.vm and test2/5-Pong/Ball_.vm:\n",
      "Success: Files are identical.\n",
      "\n",
      "Comparing test2/5-Pong/PongGame.vm and test2/5-Pong/PongGame_.vm:\n",
      "Success: Files are identical.\n",
      "\n",
      "Comparing test2/5-Pong/Main.vm and test2/5-Pong/Main_.vm:\n",
      "Success: Files are identical.\n",
      "\n",
      "Comparing test2/5-Pong/Bat.vm and test2/5-Pong/Bat_.vm:\n",
      "Success: Files are identical.\n",
      "\n",
      "Comparing test2/2-ConvertToBin/Main.vm and test2/2-ConvertToBin/Main_.vm:\n",
      "Success: Files are identical.\n",
      "\n",
      "Comparing test2/3-Square/Square.vm and test2/3-Square/Square_.vm:\n",
      "Success: Files are identical.\n",
      "\n",
      "Comparing test2/3-Square/SquareGame.vm and test2/3-Square/SquareGame_.vm:\n",
      "Success: Files are identical.\n",
      "\n",
      "Comparing test2/3-Square/Main.vm and test2/3-Square/Main_.vm:\n",
      "Success: Files are identical.\n",
      "\n"
     ]
    }
   ],
   "source": [
    "compare_undercored_vm_pairs(folder)\n"
   ]
  }
 ],
 "metadata": {
  "kernelspec": {
   "display_name": "learn",
   "language": "python",
   "name": "python3"
  },
  "language_info": {
   "codemirror_mode": {
    "name": "ipython",
    "version": 3
   },
   "file_extension": ".py",
   "mimetype": "text/x-python",
   "name": "python",
   "nbconvert_exporter": "python",
   "pygments_lexer": "ipython3",
   "version": "3.11.13"
  }
 },
 "nbformat": 4,
 "nbformat_minor": 5
}
