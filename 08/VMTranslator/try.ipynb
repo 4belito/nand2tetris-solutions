{
 "cells": [
  {
   "cell_type": "code",
   "execution_count": null,
   "id": "c64340dd",
   "metadata": {},
   "outputs": [
    {
     "data": {
      "text/plain": [
       "'file'"
      ]
     },
     "execution_count": 1,
     "metadata": {},
     "output_type": "execute_result"
    }
   ],
   "source": [
    "import os\n",
    "\n",
    "texto = \"path/to/your/file.txt\"\n",
    "os.path.splitext(os.path.basename(texto)[0]"
   ]
  },
  {
   "cell_type": "code",
   "execution_count": 3,
   "id": "ed639d77",
   "metadata": {},
   "outputs": [
    {
     "name": "stdout",
     "output_type": "stream",
     "text": [
      "D=0\n",
      "a\n",
      "D=0\n",
      "a\n",
      "D=0\n",
      "a\n",
      "D=0\n",
      "a\n",
      "D=0\n",
      "a\n",
      "\n"
     ]
    }
   ],
   "source": [
    "print(5*f'D=0\\n{\"a\"}\\n')"
   ]
  },
  {
   "cell_type": "code",
   "execution_count": null,
   "id": "1c54864b",
   "metadata": {},
   "outputs": [],
   "source": []
  }
 ],
 "metadata": {
  "kernelspec": {
   "display_name": "learn",
   "language": "python",
   "name": "python3"
  },
  "language_info": {
   "codemirror_mode": {
    "name": "ipython",
    "version": 3
   },
   "file_extension": ".py",
   "mimetype": "text/x-python",
   "name": "python",
   "nbconvert_exporter": "python",
   "pygments_lexer": "ipython3",
   "version": "3.11.13"
  }
 },
 "nbformat": 4,
 "nbformat_minor": 5
}
