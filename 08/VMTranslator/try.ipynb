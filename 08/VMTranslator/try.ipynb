{
 "cells": [
  {
   "cell_type": "code",
   "execution_count": 2,
   "id": "c64340dd",
   "metadata": {},
   "outputs": [
    {
     "data": {
      "text/plain": [
       "('path/to/your/file', '.txt')"
      ]
     },
     "execution_count": 2,
     "metadata": {},
     "output_type": "execute_result"
    }
   ],
   "source": [
    "import os\n",
    "\n",
    "texto = \"path/to/your/file.txt\"\n",
    "os.path.splitext(texto)"
   ]
  },
  {
   "cell_type": "code",
   "execution_count": 8,
   "id": "b4208a59",
   "metadata": {},
   "outputs": [
    {
     "data": {
      "text/plain": [
       "'file.txt'"
      ]
     },
     "execution_count": 8,
     "metadata": {},
     "output_type": "execute_result"
    }
   ],
   "source": [
    "os.path.basename(texto)"
   ]
  },
  {
   "cell_type": "code",
   "execution_count": 3,
   "id": "ed639d77",
   "metadata": {},
   "outputs": [
    {
     "name": "stdout",
     "output_type": "stream",
     "text": [
      "D=0\n",
      "a\n",
      "D=0\n",
      "a\n",
      "D=0\n",
      "a\n",
      "D=0\n",
      "a\n",
      "D=0\n",
      "a\n",
      "\n"
     ]
    }
   ],
   "source": [
    "print(5*f'D=0\\n{\"a\"}\\n')"
   ]
  },
  {
   "cell_type": "code",
   "execution_count": 4,
   "id": "1c54864b",
   "metadata": {},
   "outputs": [
    {
     "data": {
      "text/plain": [
       "['Sys.asm',\n",
       " 'Main.vm',\n",
       " 'FibonacciElement.cmp',\n",
       " 'Sys.vm',\n",
       " 'FibonacciElement.tst',\n",
       " 'FibonacciElementVME.tst']"
      ]
     },
     "execution_count": 4,
     "metadata": {},
     "output_type": "execute_result"
    }
   ],
   "source": [
    "os.listdir('/Users/abeldiaz/Documents/learn/cs/1-Foundations/2-Computer Systems/nand2tetris/my solutions/08/VMTranslator/test/FunctionCalls/FibonacciElement')"
   ]
  },
  {
   "cell_type": "code",
   "execution_count": 6,
   "id": "4cc91a75",
   "metadata": {},
   "outputs": [
    {
     "ename": "TypeError",
     "evalue": "'str' object is not callable",
     "output_type": "error",
     "traceback": [
      "\u001b[31m---------------------------------------------------------------------------\u001b[39m",
      "\u001b[31mTypeError\u001b[39m                                 Traceback (most recent call last)",
      "\u001b[36mCell\u001b[39m\u001b[36m \u001b[39m\u001b[32mIn[6]\u001b[39m\u001b[32m, line 1\u001b[39m\n\u001b[32m----> \u001b[39m\u001b[32m1\u001b[39m \u001b[43mos\u001b[49m\u001b[43m.\u001b[49m\u001b[43mpardir\u001b[49m\u001b[43m(\u001b[49m\u001b[33;43m'\u001b[39;49m\u001b[33;43m/Users/abeldiaz/Documents/learn/cs/1-Foundations/2-Computer Systems/nand2tetris/my solutions/08/VMTranslator/test/FunctionCalls/FibonacciElement\u001b[39;49m\u001b[33;43m'\u001b[39;49m\u001b[43m)\u001b[49m\n",
      "\u001b[31mTypeError\u001b[39m: 'str' object is not callable"
     ]
    }
   ],
   "source": [
    "os.pardir('/Users/abeldiaz/Documents/learn/cs/1-Foundations/2-Computer Systems/nand2tetris/my solutions/08/VMTranslator/test/FunctionCalls/FibonacciElement')"
   ]
  },
  {
   "cell_type": "code",
   "execution_count": 7,
   "id": "e1eca738",
   "metadata": {},
   "outputs": [
    {
     "data": {
      "text/plain": [
       "'/Users/abeldiaz/Documents/learn/cs/1-Foundations/2-Computer Systems/nand2tetris/my solutions/08/VMTranslator/test/FunctionCalls'"
      ]
     },
     "execution_count": 7,
     "metadata": {},
     "output_type": "execute_result"
    }
   ],
   "source": [
    "os.path.dirname('/Users/abeldiaz/Documents/learn/cs/1-Foundations/2-Computer Systems/nand2tetris/my solutions/08/VMTranslator/test/FunctionCalls/FibonacciElement')"
   ]
  },
  {
   "cell_type": "code",
   "execution_count": null,
   "id": "b75f59ff",
   "metadata": {},
   "outputs": [],
   "source": []
  }
 ],
 "metadata": {
  "kernelspec": {
   "display_name": "learn",
   "language": "python",
   "name": "python3"
  },
  "language_info": {
   "codemirror_mode": {
    "name": "ipython",
    "version": 3
   },
   "file_extension": ".py",
   "mimetype": "text/x-python",
   "name": "python",
   "nbconvert_exporter": "python",
   "pygments_lexer": "ipython3",
   "version": "3.11.13"
  }
 },
 "nbformat": 4,
 "nbformat_minor": 5
}
