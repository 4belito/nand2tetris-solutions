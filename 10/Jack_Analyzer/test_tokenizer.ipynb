{
 "cells": [
  {
   "cell_type": "markdown",
   "id": "57ca3b66",
   "metadata": {},
   "source": [
    "### test"
   ]
  },
  {
   "cell_type": "code",
   "execution_count": 1,
   "id": "6f1d8ecc",
   "metadata": {},
   "outputs": [
    {
     "data": {
      "text/plain": [
       "<jack_tokens.Token at 0x10a3954d0>"
      ]
     },
     "execution_count": 1,
     "metadata": {},
     "output_type": "execute_result"
    }
   ],
   "source": [
    "from jack_tokens import Token,Keyword\n",
    "\n",
    "Token('class')"
   ]
  },
  {
   "cell_type": "code",
   "execution_count": 2,
   "id": "cdbad533",
   "metadata": {},
   "outputs": [
    {
     "data": {
      "text/plain": [
       "<Keyword.CLASS: 'class'>"
      ]
     },
     "execution_count": 2,
     "metadata": {},
     "output_type": "execute_result"
    }
   ],
   "source": [
    "Keyword.CLASS"
   ]
  },
  {
   "cell_type": "code",
   "execution_count": null,
   "id": "7a1d3c9e",
   "metadata": {},
   "outputs": [],
   "source": []
  },
  {
   "cell_type": "code",
   "execution_count": 3,
   "id": "1bfc7aed",
   "metadata": {},
   "outputs": [
    {
     "data": {
      "text/plain": [
       "{<jack_tokens.Token at 0x10a3bc210>}"
      ]
     },
     "execution_count": 3,
     "metadata": {},
     "output_type": "execute_result"
    }
   ],
   "source": [
    "{Token('class'), Keyword.CLASS}"
   ]
  },
  {
   "cell_type": "code",
   "execution_count": 3,
   "id": "452fe8e9",
   "metadata": {},
   "outputs": [],
   "source": [
    "from jack_analyzer import JackAnalyzer\n",
    "jack_analyzer = JackAnalyzer('test/ExpressionLessSquare')\n",
    "jack_analyzer = JackAnalyzer('test/Square')\n",
    "jack_analyzer = JackAnalyzer('test/ArrayTest')"
   ]
  },
  {
   "cell_type": "code",
   "execution_count": 4,
   "id": "bda5740a",
   "metadata": {},
   "outputs": [],
   "source": [
    "jack_analyzer.analyze()"
   ]
  }
 ],
 "metadata": {
  "kernelspec": {
   "display_name": "learn",
   "language": "python",
   "name": "python3"
  },
  "language_info": {
   "codemirror_mode": {
    "name": "ipython",
    "version": 3
   },
   "file_extension": ".py",
   "mimetype": "text/x-python",
   "name": "python",
   "nbconvert_exporter": "python",
   "pygments_lexer": "ipython3",
   "version": "3.11.13"
  }
 },
 "nbformat": 4,
 "nbformat_minor": 5
}
