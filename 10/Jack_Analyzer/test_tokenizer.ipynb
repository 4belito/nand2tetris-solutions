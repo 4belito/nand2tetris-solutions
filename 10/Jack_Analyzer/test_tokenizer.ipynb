{
 "cells": [
  {
   "cell_type": "markdown",
   "id": "57ca3b66",
   "metadata": {},
   "source": [
    "### test"
   ]
  },
  {
   "cell_type": "code",
   "execution_count": 1,
   "id": "97b75227",
   "metadata": {},
   "outputs": [],
   "source": [
    "from jack_tokens import Token"
   ]
  },
  {
   "cell_type": "code",
   "execution_count": 2,
   "id": "aba9d092",
   "metadata": {},
   "outputs": [],
   "source": [
    "token = Token('09')"
   ]
  },
  {
   "cell_type": "code",
   "execution_count": 3,
   "id": "f64f54b6",
   "metadata": {},
   "outputs": [
    {
     "data": {
      "text/plain": [
       "<jack_tokens.Token at 0x10470f310>"
      ]
     },
     "execution_count": 3,
     "metadata": {},
     "output_type": "execute_result"
    }
   ],
   "source": [
    "token"
   ]
  },
  {
   "cell_type": "code",
   "execution_count": 4,
   "id": "b583cf79",
   "metadata": {},
   "outputs": [
    {
     "data": {
      "text/plain": [
       "9"
      ]
     },
     "execution_count": 4,
     "metadata": {},
     "output_type": "execute_result"
    }
   ],
   "source": [
    "token.value"
   ]
  },
  {
   "cell_type": "code",
   "execution_count": 5,
   "id": "73f9f28e",
   "metadata": {},
   "outputs": [
    {
     "data": {
      "text/plain": [
       "'INT_CONST'"
      ]
     },
     "execution_count": 5,
     "metadata": {},
     "output_type": "execute_result"
    }
   ],
   "source": [
    "token.ttype"
   ]
  },
  {
   "cell_type": "code",
   "execution_count": 6,
   "id": "452fe8e9",
   "metadata": {},
   "outputs": [],
   "source": [
    "from jack_analyzer import JackAnalyzer\n",
    "jack_analyzer = JackAnalyzer('test/ExpressionLessSquare/Main.jack')"
   ]
  },
  {
   "cell_type": "code",
   "execution_count": 7,
   "id": "bda5740a",
   "metadata": {},
   "outputs": [
    {
     "data": {
      "text/plain": [
       "['class',\n",
       " 'Main',\n",
       " '{',\n",
       " 'static',\n",
       " 'boolean',\n",
       " 'test',\n",
       " ';',\n",
       " 'function',\n",
       " 'void',\n",
       " 'main',\n",
       " '(',\n",
       " ')',\n",
       " '{',\n",
       " 'var',\n",
       " 'SquareGame',\n",
       " 'game',\n",
       " ';',\n",
       " 'let',\n",
       " 'game',\n",
       " '=',\n",
       " 'game',\n",
       " ';',\n",
       " 'do',\n",
       " 'game',\n",
       " '.',\n",
       " 'run',\n",
       " '(',\n",
       " ')',\n",
       " ';',\n",
       " 'do',\n",
       " 'game',\n",
       " '.',\n",
       " 'dispose',\n",
       " '(',\n",
       " ')',\n",
       " ';',\n",
       " 'return',\n",
       " ';',\n",
       " '}',\n",
       " 'function',\n",
       " 'void',\n",
       " 'more',\n",
       " '(',\n",
       " ')',\n",
       " '{',\n",
       " 'var',\n",
       " 'boolean',\n",
       " 'b',\n",
       " ';',\n",
       " 'if',\n",
       " '(',\n",
       " 'b',\n",
       " ')',\n",
       " '{',\n",
       " '}',\n",
       " 'else',\n",
       " '{',\n",
       " '}',\n",
       " 'return',\n",
       " ';',\n",
       " '}',\n",
       " '}']"
      ]
     },
     "execution_count": 7,
     "metadata": {},
     "output_type": "execute_result"
    }
   ],
   "source": [
    "jack_analyzer.tokenizer.raw_tokens"
   ]
  },
  {
   "cell_type": "code",
   "execution_count": 8,
   "id": "513a6a1a",
   "metadata": {},
   "outputs": [
    {
     "name": "stdout",
     "output_type": "stream",
     "text": [
      "KEYWORD: class\n",
      "IDENTIFIER: Main\n",
      "SYMBOL: {\n",
      "KEYWORD: static\n",
      "KEYWORD: boolean\n",
      "IDENTIFIER: test\n",
      "SYMBOL: ;\n",
      "KEYWORD: function\n",
      "KEYWORD: void\n",
      "IDENTIFIER: main\n",
      "SYMBOL: (\n",
      "SYMBOL: )\n",
      "SYMBOL: {\n",
      "KEYWORD: var\n",
      "IDENTIFIER: SquareGame\n",
      "IDENTIFIER: game\n",
      "SYMBOL: ;\n",
      "KEYWORD: let\n",
      "IDENTIFIER: game\n",
      "SYMBOL: =\n",
      "IDENTIFIER: game\n",
      "SYMBOL: ;\n",
      "KEYWORD: do\n",
      "IDENTIFIER: game\n",
      "SYMBOL: .\n",
      "IDENTIFIER: run\n",
      "SYMBOL: (\n",
      "SYMBOL: )\n",
      "SYMBOL: ;\n",
      "KEYWORD: do\n",
      "IDENTIFIER: game\n",
      "SYMBOL: .\n",
      "IDENTIFIER: dispose\n",
      "SYMBOL: (\n",
      "SYMBOL: )\n",
      "SYMBOL: ;\n",
      "KEYWORD: return\n",
      "SYMBOL: ;\n",
      "SYMBOL: }\n",
      "KEYWORD: function\n",
      "KEYWORD: void\n",
      "IDENTIFIER: more\n",
      "SYMBOL: (\n",
      "SYMBOL: )\n",
      "SYMBOL: {\n",
      "KEYWORD: var\n",
      "KEYWORD: boolean\n",
      "IDENTIFIER: b\n",
      "SYMBOL: ;\n",
      "KEYWORD: if\n",
      "SYMBOL: (\n",
      "IDENTIFIER: b\n",
      "SYMBOL: )\n",
      "SYMBOL: {\n",
      "SYMBOL: }\n",
      "KEYWORD: else\n",
      "SYMBOL: {\n",
      "SYMBOL: }\n",
      "KEYWORD: return\n",
      "SYMBOL: ;\n",
      "SYMBOL: }\n",
      "SYMBOL: }\n"
     ]
    }
   ],
   "source": [
    "while jack_analyzer.tokenizer.has_more_tokens():\n",
    "    jack_analyzer.tokenizer.advance()\n",
    "    print(jack_analyzer.tokenizer.current_token.ttype, end=': ')\n",
    "    print(jack_analyzer.tokenizer.current_token.value)\n"
   ]
  },
  {
   "cell_type": "code",
   "execution_count": null,
   "id": "bf4c88ea",
   "metadata": {},
   "outputs": [],
   "source": []
  }
 ],
 "metadata": {
  "kernelspec": {
   "display_name": "learn",
   "language": "python",
   "name": "python3"
  },
  "language_info": {
   "codemirror_mode": {
    "name": "ipython",
    "version": 3
   },
   "file_extension": ".py",
   "mimetype": "text/x-python",
   "name": "python",
   "nbconvert_exporter": "python",
   "pygments_lexer": "ipython3",
   "version": "3.11.13"
  }
 },
 "nbformat": 4,
 "nbformat_minor": 5
}
