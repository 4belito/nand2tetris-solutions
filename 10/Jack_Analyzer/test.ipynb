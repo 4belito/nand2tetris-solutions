{
 "cells": [
  {
   "cell_type": "markdown",
   "id": "57ca3b66",
   "metadata": {},
   "source": [
    "### test"
   ]
  },
  {
   "cell_type": "code",
   "execution_count": 1,
   "id": "452fe8e9",
   "metadata": {},
   "outputs": [],
   "source": [
    "from jack_analyzer import JackAnalyzer\n",
    "jack_analyzer = JackAnalyzer('test/ExpressionLessSquare')\n",
    "jack_analyzer.analyze()\n",
    "jack_analyzer = JackAnalyzer('test/Square')\n",
    "jack_analyzer.analyze()\n",
    "jack_analyzer = JackAnalyzer('test/ArrayTest')\n",
    "jack_analyzer.analyze()"
   ]
  }
 ],
 "metadata": {
  "kernelspec": {
   "display_name": "learn",
   "language": "python",
   "name": "python3"
  },
  "language_info": {
   "codemirror_mode": {
    "name": "ipython",
    "version": 3
   },
   "file_extension": ".py",
   "mimetype": "text/x-python",
   "name": "python",
   "nbconvert_exporter": "python",
   "pygments_lexer": "ipython3",
   "version": "3.11.13"
  }
 },
 "nbformat": 4,
 "nbformat_minor": 5
}
