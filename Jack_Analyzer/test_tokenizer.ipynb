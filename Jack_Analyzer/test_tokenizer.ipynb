{
 "cells": [
  {
   "cell_type": "markdown",
   "id": "57ca3b66",
   "metadata": {},
   "source": [
    "### try"
   ]
  },
  {
   "cell_type": "code",
   "execution_count": 1,
   "id": "97b75227",
   "metadata": {},
   "outputs": [],
   "source": [
    "from jack_tokens import Token"
   ]
  },
  {
   "cell_type": "code",
   "execution_count": 2,
   "id": "aba9d092",
   "metadata": {},
   "outputs": [],
   "source": [
    "token = Token('09')"
   ]
  },
  {
   "cell_type": "code",
   "execution_count": 3,
   "id": "f64f54b6",
   "metadata": {},
   "outputs": [
    {
     "data": {
      "text/plain": [
       "9"
      ]
     },
     "execution_count": 3,
     "metadata": {},
     "output_type": "execute_result"
    }
   ],
   "source": [
    "token"
   ]
  },
  {
   "cell_type": "code",
   "execution_count": 4,
   "id": "b583cf79",
   "metadata": {},
   "outputs": [
    {
     "data": {
      "text/plain": [
       "9"
      ]
     },
     "execution_count": 4,
     "metadata": {},
     "output_type": "execute_result"
    }
   ],
   "source": [
    "token.value"
   ]
  },
  {
   "cell_type": "code",
   "execution_count": 5,
   "id": "73f9f28e",
   "metadata": {},
   "outputs": [
    {
     "data": {
      "text/plain": [
       "'INT_CONST'"
      ]
     },
     "execution_count": 5,
     "metadata": {},
     "output_type": "execute_result"
    }
   ],
   "source": [
    "token.type"
   ]
  },
  {
   "cell_type": "code",
   "execution_count": 6,
   "id": "452fe8e9",
   "metadata": {},
   "outputs": [],
   "source": [
    "from jack_analyzer import JackAnalyzer\n",
    "jack_analyzer = JackAnalyzer('test.jack')"
   ]
  },
  {
   "cell_type": "code",
   "execution_count": 7,
   "id": "bda5740a",
   "metadata": {},
   "outputs": [
    {
     "data": {
      "text/plain": [
       "['class',\n",
       " 'Main',\n",
       " '{',\n",
       " 'function',\n",
       " 'void',\n",
       " 'main',\n",
       " '(',\n",
       " ')',\n",
       " '{',\n",
       " 'var',\n",
       " 'SnakeGame',\n",
       " 'game',\n",
       " ';',\n",
       " 'let',\n",
       " 'game',\n",
       " '=',\n",
       " 'SnakeGame',\n",
       " '.',\n",
       " 'new',\n",
       " '(',\n",
       " '5',\n",
       " ',',\n",
       " '10',\n",
       " ',',\n",
       " '0',\n",
       " ')',\n",
       " ';',\n",
       " 'do',\n",
       " 'game',\n",
       " '.',\n",
       " 'runAllLevels',\n",
       " '(',\n",
       " ')',\n",
       " ';',\n",
       " 'do',\n",
       " 'game',\n",
       " '.',\n",
       " 'dispose',\n",
       " '(',\n",
       " ')',\n",
       " ';',\n",
       " 'return',\n",
       " ';',\n",
       " '}',\n",
       " '}']"
      ]
     },
     "execution_count": 7,
     "metadata": {},
     "output_type": "execute_result"
    }
   ],
   "source": [
    "jack_analyzer.tokenizer.raw_tokens"
   ]
  },
  {
   "cell_type": "code",
   "execution_count": 8,
   "id": "513a6a1a",
   "metadata": {},
   "outputs": [
    {
     "name": "stdout",
     "output_type": "stream",
     "text": [
      "KEYWORD: class\n",
      "IDENTIFIER: Main\n",
      "SYMBOL: {\n",
      "KEYWORD: function\n",
      "KEYWORD: void\n",
      "IDENTIFIER: main\n",
      "SYMBOL: (\n",
      "SYMBOL: )\n",
      "SYMBOL: {\n",
      "KEYWORD: var\n",
      "IDENTIFIER: SnakeGame\n",
      "IDENTIFIER: game\n",
      "SYMBOL: ;\n",
      "KEYWORD: let\n",
      "IDENTIFIER: game\n",
      "SYMBOL: =\n",
      "IDENTIFIER: SnakeGame\n",
      "SYMBOL: .\n",
      "IDENTIFIER: new\n",
      "SYMBOL: (\n",
      "INT_CONST: 5\n",
      "SYMBOL: ,\n",
      "INT_CONST: 10\n",
      "SYMBOL: ,\n",
      "INT_CONST: 0\n",
      "SYMBOL: )\n",
      "SYMBOL: ;\n",
      "KEYWORD: do\n",
      "IDENTIFIER: game\n",
      "SYMBOL: .\n",
      "IDENTIFIER: runAllLevels\n",
      "SYMBOL: (\n",
      "SYMBOL: )\n",
      "SYMBOL: ;\n",
      "KEYWORD: do\n",
      "IDENTIFIER: game\n",
      "SYMBOL: .\n",
      "IDENTIFIER: dispose\n",
      "SYMBOL: (\n",
      "SYMBOL: )\n",
      "SYMBOL: ;\n",
      "KEYWORD: return\n",
      "SYMBOL: ;\n",
      "SYMBOL: }\n",
      "SYMBOL: }\n"
     ]
    }
   ],
   "source": [
    "while jack_analyzer.tokenizer.has_more_tokens():\n",
    "    jack_analyzer.tokenizer.advance()\n",
    "    print(jack_analyzer.tokenizer.current_token.type, end=': ')\n",
    "    print(jack_analyzer.tokenizer.current_token.value)\n"
   ]
  }
 ],
 "metadata": {
  "kernelspec": {
   "display_name": "learn",
   "language": "python",
   "name": "python3"
  },
  "language_info": {
   "codemirror_mode": {
    "name": "ipython",
    "version": 3
   },
   "file_extension": ".py",
   "mimetype": "text/x-python",
   "name": "python",
   "nbconvert_exporter": "python",
   "pygments_lexer": "ipython3",
   "version": "3.11.13"
  }
 },
 "nbformat": 4,
 "nbformat_minor": 5
}
